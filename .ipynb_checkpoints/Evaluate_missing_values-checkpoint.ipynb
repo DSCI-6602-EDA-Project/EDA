{
 "cells": [
  {
   "cell_type": "code",
   "execution_count": 19,
   "id": "7b03786e",
   "metadata": {},
   "outputs": [
    {
     "name": "stdout",
     "output_type": "stream",
     "text": [
      "Data loaded successfully.\n"
     ]
    }
   ],
   "source": [
    "#Creating class Doctorsbycountries\n",
    "class Doctorsbycountries:\n",
    "    def __init__(self, filename):\n",
    "        self.filename = filename\n",
    "        self.data = None\n",
    "\n",
    "    def load_data(self):\n",
    "        import pandas as pd\n",
    "        self.data = pd.read_csv(self.filename)\n",
    "        print(\"Data loaded successfully.\")\n",
    "        \n",
    "doctors = Doctorsbycountries(\"Doctors_by_countries.csv\")\n",
    "doctors.load_data()\n"
   ]
  },
  {
   "cell_type": "code",
   "execution_count": 20,
   "id": "3e4b5b42",
   "metadata": {},
   "outputs": [
    {
     "name": "stdout",
     "output_type": "stream",
     "text": [
      "Missing values in each column:\n",
      "Countries, territories and areas                   0\n",
      "Year                                               0\n",
      "Medical doctors (per 10 000 population)          700\n",
      "Medical doctors (number)                         160\n",
      "Generalist medical practitioners (number)       2270\n",
      "Specialist medical practitioners (number)       2351\n",
      "Medical doctors not further defined (number)     822\n",
      "dtype: int64\n"
     ]
    }
   ],
   "source": [
    "# Check for missing values\n",
    "print(\"Missing values in each column:\")\n",
    "print(doctors.data.isnull().sum())\n"
   ]
  },
  {
   "cell_type": "code",
   "execution_count": 21,
   "id": "04d66d2b",
   "metadata": {},
   "outputs": [],
   "source": [
    "#Handle missing values by dropping rows with missing values:\n",
    "doctors.data.dropna(inplace=True)"
   ]
  },
  {
   "cell_type": "code",
   "execution_count": 22,
   "id": "03ef9a73",
   "metadata": {},
   "outputs": [],
   "source": [
    "#Fill missing values with a default numeric values\n",
    "doctors.data.fillna(doctors.data.mean(numeric_only=True), inplace=True)"
   ]
  },
  {
   "cell_type": "code",
   "execution_count": 23,
   "id": "e7d48294",
   "metadata": {},
   "outputs": [],
   "source": [
    "# Fill with a placeholder like 'Unknown'\n",
    "doctors.data['Countries, territories and areas'].fillna('Unknown', inplace=True)"
   ]
  },
  {
   "cell_type": "code",
   "execution_count": 24,
   "id": "4e608a0f",
   "metadata": {},
   "outputs": [
    {
     "name": "stdout",
     "output_type": "stream",
     "text": [
      "Number of duplicate rows: 0\n"
     ]
    }
   ],
   "source": [
    "#Evaluate duplicate values\n",
    "duplicate_count = doctors.data.duplicated().sum()\n",
    "print(f\"Number of duplicate rows: {duplicate_count}\")"
   ]
  },
  {
   "cell_type": "code",
   "execution_count": 25,
   "id": "1923677b",
   "metadata": {},
   "outputs": [],
   "source": [
    "# Drop duplicate rows\n",
    "doctors.data.drop_duplicates(inplace=True)"
   ]
  },
  {
   "cell_type": "code",
   "execution_count": null,
   "id": "7c839f2f",
   "metadata": {},
   "outputs": [],
   "source": []
  }
 ],
 "metadata": {
  "kernelspec": {
   "display_name": "Python 3 (ipykernel)",
   "language": "python",
   "name": "python3"
  },
  "language_info": {
   "codemirror_mode": {
    "name": "ipython",
    "version": 3
   },
   "file_extension": ".py",
   "mimetype": "text/x-python",
   "name": "python",
   "nbconvert_exporter": "python",
   "pygments_lexer": "ipython3",
   "version": "3.9.7"
  }
 },
 "nbformat": 4,
 "nbformat_minor": 5
}
