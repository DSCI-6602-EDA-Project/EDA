{
 "cells": [
  {
   "cell_type": "code",
   "execution_count": null,
   "id": "0b3a14d1-7ea1-4164-b0b5-93c7895bc675",
   "metadata": {},
   "outputs": [],
   "source": [
    "!pip install gradio"
   ]
  },
  {
   "cell_type": "code",
   "execution_count": null,
   "id": "fc62e3b2-cb9a-419e-961c-3603cd0e3245",
   "metadata": {
    "jupyter": {
     "source_hidden": true
    }
   },
   "outputs": [],
   "source": [
    "pip install --upgrade gradio\n"
   ]
  },
  {
   "cell_type": "code",
   "execution_count": null,
   "id": "4a80b641-ebe4-41de-b68e-1c2fdb08d56d",
   "metadata": {},
   "outputs": [],
   "source": []
  },
  {
   "cell_type": "code",
   "execution_count": 2,
   "id": "c8cf79d7-1fd9-4c3a-bfdf-b0dde2f122e7",
   "metadata": {},
   "outputs": [
    {
     "name": "stdout",
     "output_type": "stream",
     "text": [
      "* Running on local URL:  http://127.0.0.1:7860\n",
      "\n",
      "To create a public link, set `share=True` in `launch()`.\n"
     ]
    },
    {
     "data": {
      "text/html": [
       "<div><iframe src=\"http://127.0.0.1:7860/\" width=\"100%\" height=\"500\" allow=\"autoplay; camera; microphone; clipboard-read; clipboard-write;\" frameborder=\"0\" allowfullscreen></iframe></div>"
      ],
      "text/plain": [
       "<IPython.core.display.HTML object>"
      ]
     },
     "metadata": {},
     "output_type": "display_data"
    },
    {
     "data": {
      "text/plain": []
     },
     "execution_count": 2,
     "metadata": {},
     "output_type": "execute_result"
    }
   ],
   "source": [
    "import gradio as gr\n",
    "import pandas as pd\n",
    "\n",
    "def eda_analysis(file):\n",
    "    df = pd.read_csv(file)\n",
    "    return df.head()\n",
    "\n",
    "demo = gr.Interface(\n",
    "    fn=eda_analysis,\n",
    "    inputs=\"file\",\n",
    "    outputs= \"dataframe\",\n",
    ")\n",
    "\n",
    "demo.launch()\n"
   ]
  },
  {
   "cell_type": "code",
   "execution_count": 3,
   "id": "025e6f8f-7b07-4aac-8a0e-46986014e407",
   "metadata": {},
   "outputs": [],
   "source": [
    "from functools import partial\n",
    "\n",
    "dataset_file = \"df_cleaned.csv\"\n",
    "df = pd.read_csv(dataset_file)\n",
    "df.sort_values(by=['Countries, territories and areas', 'Year'], inplace=True)\n"
   ]
  },
  {
   "cell_type": "code",
   "execution_count": 4,
   "id": "14846f51-03d5-4876-8b52-ec6a6770d95d",
   "metadata": {},
   "outputs": [
    {
     "name": "stdout",
     "output_type": "stream",
     "text": [
      "* Running on local URL:  http://127.0.0.1:7861\n",
      "\n",
      "To create a public link, set `share=True` in `launch()`.\n"
     ]
    },
    {
     "data": {
      "text/html": [
       "<div><iframe src=\"http://127.0.0.1:7861/\" width=\"100%\" height=\"500\" allow=\"autoplay; camera; microphone; clipboard-read; clipboard-write;\" frameborder=\"0\" allowfullscreen></iframe></div>"
      ],
      "text/plain": [
       "<IPython.core.display.HTML object>"
      ]
     },
     "metadata": {},
     "output_type": "display_data"
    },
    {
     "data": {
      "text/plain": []
     },
     "execution_count": 4,
     "metadata": {},
     "output_type": "execute_result"
    }
   ],
   "source": [
    "import matplotlib.pyplot as plt\n",
    "import io\n",
    "from PIL import Image\n",
    "\n",
    "def filter_dataset(countries, year_min, year_max, doctor_min):\n",
    "    filtered = df.copy()\n",
    "\n",
    "    # filtering by list of countries\n",
    "    if \"All\" not in countries and len(countries) > 0:\n",
    "        filtered = filtered[filtered[\"Countries, territories and areas\"].isin(countries)]\n",
    "\n",
    "    # filtering by Min and Max Year\n",
    "    filtered = filtered[(filtered[\"Year\"] >= year_min) & (filtered[\"Year\"] <= year_max)]\n",
    "    \n",
    "    # Doctor filter\n",
    "    filtered = filtered[filtered[\"Medical doctors (number)\"] >= doctor_min]\n",
    "    \n",
    "    return filtered, filtered \n",
    "\n",
    "\n",
    "def summary(filtered):\n",
    "    desc = filtered.describe()\n",
    "\n",
    "    total_doctors = filtered[\"Medical doctors (number)\"].sum()\n",
    "    avg_doctors_per_10k = filtered[\"Medical doctors (per 10 000 population)\"].mean()\n",
    "    num_countries = filtered[\"Countries, territories and areas\"].nunique()\n",
    "    year_min = filtered[\"Year\"].min()\n",
    "    year_max = filtered[\"Year\"].max()\n",
    "\n",
    "    kpi_text = (\n",
    "        f\"**Total doctors:** {total_doctors:,.0f}\\n\\n\"\n",
    "        f\"**Average doctors per 10,000 population:** {avg_doctors_per_10k:.2f}\\n\\n\"\n",
    "        f\"**Number of countries:** {num_countries}\\n\\n\"\n",
    "        f\"**Year range:** {year_min} - {year_max}\"\n",
    "    )\n",
    "\n",
    "    generalist = filtered[\"Generalist medical practitioners (number)\"].sum()\n",
    "    specialist = filtered[\"Specialist medical practitioners (number)\"].sum()\n",
    "    not_defined = filtered[\"Medical doctors not further defined (number)\"].sum()\n",
    "\n",
    "    labels = [\"Generalist\", \"Specialist\", \"Not further defined\"]\n",
    "    sizes = [generalist, specialist, not_defined]\n",
    "    colors = [\"#66b3ff\", \"#99ff99\", \"#ffcc99\"]\n",
    "\n",
    "    plt.figure(figsize=(4, 4))\n",
    "    plt.pie(sizes, labels=labels, colors=colors, autopct=\"%1.1f%%\", startangle=140)\n",
    "    plt.title(\"Doctor Types Proportion\")\n",
    "    plt.tight_layout()\n",
    "\n",
    "    buf = io.BytesIO()\n",
    "    plt.savefig(buf, format=\"png\")\n",
    "    plt.close()\n",
    "    buf.seek(0)\n",
    "    pil_img = Image.open(buf)  # Convert BytesIO to PIL Image\n",
    "\n",
    "    return desc, kpi_text, pil_img\n",
    "\n",
    "def visualization():\n",
    "    test = \"tset\"\n",
    "    return test\n",
    "\n",
    "\n",
    "with gr.Blocks() as app:\n",
    "    \n",
    "    # State to share filtered data between tabs\n",
    "    filtered_data = gr.State(df) \n",
    "    \n",
    "    with gr.Tab(\"Filter\"):\n",
    "        with gr.Row():\n",
    "              with gr.Column():\n",
    "                  country = gr.Dropdown(\n",
    "                      choices=sorted(df[\"Countries, territories and areas\"].unique().tolist()),\n",
    "                      value=[],  \n",
    "                      label=\"Countries\",\n",
    "                      multiselect=True,\n",
    "                      allow_custom_value=False,\n",
    "                      max_choices=50 \n",
    "                  )\n",
    "                  year_min = gr.Number(value=df[\"Year\"].min(), label=\"Min Year\")\n",
    "                  year_max = gr.Number(value=df[\"Year\"].max(), label=\"Max Year\")\n",
    "                  doctor_min = gr.Number(value=0, label=\"Min Doctors\")\n",
    "                  gr.Markdown(\"💡 **Tip:** Hold Ctrl/Cmd to select multiple countries\")\n",
    "                  filter_btn = gr.Button(\"Apply Filters\")\n",
    "              with gr.Column():\n",
    "                    filtered_df = gr.Dataframe(headers=list(df.columns), interactive=False)\n",
    "    \n",
    "    with gr.Tab(\"Summary\"):\n",
    "        with gr.Row():\n",
    "            summary_df = gr.Dataframe(interactive=False, label=\"Statistical Summary\")\n",
    "        with gr.Row():\n",
    "            kpi_text = gr.Markdown()\n",
    "            pie_chart = gr.Image(label=\"Doctor Types Proportion\")\n",
    "\n",
    "    with gr.Tab(\"Visualization\"):\n",
    "        test = gr.Textbox(label=\"Context\", value=visualization())\n",
    "        \n",
    "\n",
    "    \n",
    "    # Filter tab logic\n",
    "    filter_btn.click(\n",
    "        filter_dataset,\n",
    "        [country, year_min, year_max, doctor_min],\n",
    "        [filtered_df, filtered_data]\n",
    "    )\n",
    "    \n",
    "    # Auto-update summary when filtered data changes\n",
    "    filtered_data.change(\n",
    "        summary,\n",
    "        filtered_data,\n",
    "        [summary_df, kpi_text, pie_chart],\n",
    "        test\n",
    "    )\n",
    "\n",
    "app.launch()"
   ]
  },
  {
   "cell_type": "code",
   "execution_count": null,
   "id": "17ac38ad",
   "metadata": {},
   "outputs": [],
   "source": [
    "# Load your CSV files\n",
    "df = pd.read_csv(\"Doctors_by_countries.csv\")  # Replace with your actual path\n",
    "df_clean = pd.read_csv(\"df_cleaned.csv\") "
   ]
  },
  {
   "cell_type": "code",
   "execution_count": null,
   "id": "58f0f4c7-2f86-487a-b099-914d82c564f0",
   "metadata": {},
   "outputs": [],
   "source": [
    "pip install missingno\n"
   ]
  },
  {
   "cell_type": "code",
   "execution_count": null,
   "id": "9ef15b2a-6523-42d8-97f0-ed542e67d35f",
   "metadata": {},
   "outputs": [],
   "source": [
    "def analyze_missing():\n",
    "    # Basic Info\n",
    "    shape = df.shape\n",
    "    dtypes = df.dtypes.to_dict()\n",
    "    \n",
    "    # Missing Value Analysis\n",
    "    missing_sum = df.isna().sum()\n",
    "    missing_pct = (missing_sum / len(df) * 100).round(2)\n",
    "    missing_report = pd.DataFrame({\n",
    "        'Missing Count': missing_sum,\n",
    "        'Missing Percentage': missing_pct\n",
    "    }).sort_values('Missing Count', ascending=False)\n",
    "    \n",
    "    # Duplicates\n",
    "    duplicates = df[df.duplicated(keep=False)]\n",
    "\n",
    "    \n",
    "    # Generate Matrix Visualization\n",
    "    plt.figure(figsize=(12, 6))\n",
    "    plt.imshow(df.isna().T, aspect='auto', cmap='gray_r', \n",
    "               interpolation='none', origin='lower')\n",
    "    plt.yticks(range(len(df.columns)), df.columns)\n",
    "    plt.title(\"Missing Value Patterns\\n(Black = Missing, White = Present)\")\n",
    "    plt.xlabel(\"Row Index\")\n",
    "    plt.grid(False)\n",
    "    \n",
    "    buf = io.BytesIO()\n",
    "    plt.savefig(buf, format='png', bbox_inches='tight', dpi=100)\n",
    "    plt.close()\n",
    "    buf.seek(0)\n",
    "    matrix_img = Image.open(buf)\n",
    "    \n",
    "    # Data Cleaning Recommendations\n",
    "    actions = []\n",
    "    for col in missing_report[missing_report['Missing Count'] > 0].index:\n",
    "        pct = missing_pct[col]\n",
    "        if pct > 20:\n",
    "            actions.append(f\"❌ Remove {col} ({pct}% missing)\")\n",
    "        elif pct > 5:\n",
    "            actions.append(f\"⚠️ Impute {col} ({pct}% missing)\")\n",
    "        else:\n",
    "            actions.append(f\"✅ Keep {col} ({pct}% missing)\")\n",
    "\n",
    "    return {\n",
    "        \"shape\": f\"{shape[0]} rows × {shape[1]} columns\",\n",
    "        \"dtypes\": dtypes,\n",
    "        \"missing\": missing_report,\n",
    "        \"duplicates\": duplicates,\n",
    "        \"actions\": actions,\n",
    "        \"matrix\": matrix_img,\n",
    "        \"num_duplicates\": len(duplicates),\n",
    "        \"headers\": list(df.columns)\n",
    "    }\n",
    "\n",
    "def generate_report():\n",
    "    analysis = analyze_missing()\n",
    "    \n",
    "    report = f\"\"\"\n",
    "## 📋 Basic Information\n",
    "**Shape:** {analysis['shape']}  \n",
    "**Columns & Types:**  \n",
    "{chr(10).join([f\"- {k}: {v}\" for k,v in analysis['dtypes'].items()])}\n",
    "\n",
    "## 🔍 Missing Value Analysis\n",
    "{analysis['missing'].to_markdown()}\n",
    "\n",
    "## 🧹 Recommended Actions\n",
    "{chr(10).join(analysis['actions'])}\n",
    "\n",
    "## ♻️ Duplicates Found: {analysis['num_duplicates']}\n",
    "\"\"\"\n",
    "    return report, analysis['matrix'], analysis['duplicates']\n",
    "\n",
    "with gr.Blocks() as app:\n",
    "    gr.Markdown(\"# Missing Value Analysis Report\")\n",
    "    \n",
    "    with gr.Row():\n",
    "        with gr.Column():\n",
    "            report = gr.Markdown()\n",
    "            matrix = gr.Image(label=\"Missing Value Patterns\", \n",
    "                            width=800,\n",
    "                            format='png')\n",
    "        with gr.Column():\n",
    "            duplicates = gr.Dataframe(\n",
    "                label=\"Duplicate Entries\",\n",
    "                headers=analyze_missing()[\"headers\"],  # Dynamic headers\n",
    "                interactive=False,\n",
    "                elem_classes=[\"scrollable-df\"]\n",
    "            )\n",
    "    \n",
    "    # CSS for scrollable dataframe\n",
    "    app.css = \"\"\"\n",
    "    .scrollable-df {\n",
    "        max-height: 500px;\n",
    "        overflow-y: auto;\n",
    "        display: block;\n",
    "    }\n",
    "    \"\"\"\n",
    "    \n",
    "    app.load(generate_report, [], [report, matrix, duplicates])\n",
    "\n",
    "app.launch()"
   ]
  },
  {
   "cell_type": "code",
   "execution_count": null,
   "id": "7177fcc3-906c-42fa-a98a-14f4daf61d26",
   "metadata": {},
   "outputs": [],
   "source": []
  }
 ],
 "metadata": {
  "kernelspec": {
   "display_name": "Python [conda env:base] *",
   "language": "python",
   "name": "conda-base-py"
  },
  "language_info": {
   "codemirror_mode": {
    "name": "ipython",
    "version": 3
   },
   "file_extension": ".py",
   "mimetype": "text/x-python",
   "name": "python",
   "nbconvert_exporter": "python",
   "pygments_lexer": "ipython3",
   "version": "3.12.7"
  }
 },
 "nbformat": 4,
 "nbformat_minor": 5
}
