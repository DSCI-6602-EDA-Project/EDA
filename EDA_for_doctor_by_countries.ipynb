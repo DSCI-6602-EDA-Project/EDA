{
 "cells": [
  {
   "cell_type": "code",
   "execution_count": 2,
   "id": "6b2b9ea8-0516-4435-ae01-5bdd0bd83255",
   "metadata": {},
   "outputs": [],
   "source": [
    "# Doctor By countries over time"
   ]
  },
  {
   "cell_type": "code",
   "execution_count": null,
   "id": "1ffde1ae-1032-4321-955a-37b8f4738189",
   "metadata": {},
   "outputs": [],
   "source": []
  }
 ],
 "metadata": {
  "kernelspec": {
   "display_name": "Python [conda env:base] *",
   "language": "python",
   "name": "conda-base-py"
  },
  "language_info": {
   "codemirror_mode": {
    "name": "ipython",
    "version": 3
   },
   "file_extension": ".py",
   "mimetype": "text/x-python",
   "name": "python",
   "nbconvert_exporter": "python",
   "pygments_lexer": "ipython3",
   "version": "3.12.7"
  }
 },
 "nbformat": 4,
 "nbformat_minor": 5
}
