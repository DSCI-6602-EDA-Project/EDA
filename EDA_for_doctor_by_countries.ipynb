{
 "cells": [
  {
   "cell_type": "code",
   "execution_count": 3,
   "id": "6b2b9ea8-0516-4435-ae01-5bdd0bd83255",
   "metadata": {},
   "outputs": [],
   "source": [
    "# Doctor By countries over time"
   ]
  },
  {
   "cell_type": "code",
   "execution_count": 5,
   "id": "06d39554",
   "metadata": {},
   "outputs": [
    {
     "name": "stdout",
     "output_type": "stream",
     "text": [
      "Requirement already satisfied: pandas in /opt/anaconda3/lib/python3.12/site-packages (2.2.2)\n",
      "Requirement already satisfied: numpy>=1.26.0 in /opt/anaconda3/lib/python3.12/site-packages (from pandas) (1.26.4)\n",
      "Requirement already satisfied: python-dateutil>=2.8.2 in /opt/anaconda3/lib/python3.12/site-packages (from pandas) (2.9.0.post0)\n",
      "Requirement already satisfied: pytz>=2020.1 in /opt/anaconda3/lib/python3.12/site-packages (from pandas) (2024.1)\n",
      "Requirement already satisfied: tzdata>=2022.7 in /opt/anaconda3/lib/python3.12/site-packages (from pandas) (2023.3)\n",
      "Requirement already satisfied: six>=1.5 in /opt/anaconda3/lib/python3.12/site-packages (from python-dateutil>=2.8.2->pandas) (1.16.0)\n",
      "Note: you may need to restart the kernel to use updated packages.\n"
     ]
    }
   ],
   "source": [
    "# Install pandas if not already installed\n",
    "%pip install pandas"
   ]
  },
  {
   "cell_type": "code",
   "execution_count": 183,
   "id": "1ffde1ae-1032-4321-955a-37b8f4738189",
   "metadata": {},
   "outputs": [],
   "source": [
    "#Basic description of dataset\n",
    "\n",
    "\n",
    "import pandas as pd\n",
    "\n",
    "# Load the dataset\n",
    "dataset_file = \"Doctors_by_countries.csv\"\n",
    "df = pd.read_csv(dataset_file)\n",
    "df.sort_values(by=['Countries, territories and areas', 'Year'], inplace=True)\n"
   ]
  },
  {
   "cell_type": "code",
   "execution_count": 185,
   "id": "ecaacd2d",
   "metadata": {},
   "outputs": [
    {
     "name": "stdout",
     "output_type": "stream",
     "text": [
      "<class 'pandas.core.frame.DataFrame'>\n",
      "Index: 3603 entries, 15 to 2395\n",
      "Data columns (total 7 columns):\n",
      " #   Column                                        Non-Null Count  Dtype  \n",
      "---  ------                                        --------------  -----  \n",
      " 0   Countries, territories and areas              3603 non-null   object \n",
      " 1   Year                                          3603 non-null   int64  \n",
      " 2   Medical doctors (per 10 000 population)       2903 non-null   float64\n",
      " 3   Medical doctors (number)                      3443 non-null   float64\n",
      " 4   Generalist medical practitioners (number)     1333 non-null   float64\n",
      " 5   Specialist medical practitioners (number)     1252 non-null   float64\n",
      " 6   Medical doctors not further defined (number)  2781 non-null   float64\n",
      "dtypes: float64(5), int64(1), object(1)\n",
      "memory usage: 225.2+ KB\n"
     ]
    }
   ],
   "source": [
    "\n",
    "# Get the dataset description for EDA\n",
    "df_info = df.info()"
   ]
  },
  {
   "cell_type": "code",
   "execution_count": 187,
   "id": "3b01fa6f",
   "metadata": {},
   "outputs": [
    {
     "data": {
      "text/html": [
       "<div>\n",
       "<style scoped>\n",
       "    .dataframe tbody tr th:only-of-type {\n",
       "        vertical-align: middle;\n",
       "    }\n",
       "\n",
       "    .dataframe tbody tr th {\n",
       "        vertical-align: top;\n",
       "    }\n",
       "\n",
       "    .dataframe thead th {\n",
       "        text-align: right;\n",
       "    }\n",
       "</style>\n",
       "<table border=\"1\" class=\"dataframe\">\n",
       "  <thead>\n",
       "    <tr style=\"text-align: right;\">\n",
       "      <th></th>\n",
       "      <th>Countries, territories and areas</th>\n",
       "      <th>Year</th>\n",
       "      <th>Medical doctors (per 10 000 population)</th>\n",
       "      <th>Medical doctors (number)</th>\n",
       "      <th>Generalist medical practitioners (number)</th>\n",
       "      <th>Specialist medical practitioners (number)</th>\n",
       "      <th>Medical doctors not further defined (number)</th>\n",
       "    </tr>\n",
       "  </thead>\n",
       "  <tbody>\n",
       "    <tr>\n",
       "      <th>15</th>\n",
       "      <td>Afghanistan</td>\n",
       "      <td>2001</td>\n",
       "      <td>2.084</td>\n",
       "      <td>4104.0</td>\n",
       "      <td>NaN</td>\n",
       "      <td>NaN</td>\n",
       "      <td>4104.0</td>\n",
       "    </tr>\n",
       "    <tr>\n",
       "      <th>14</th>\n",
       "      <td>Afghanistan</td>\n",
       "      <td>2006</td>\n",
       "      <td>1.659</td>\n",
       "      <td>4220.0</td>\n",
       "      <td>NaN</td>\n",
       "      <td>NaN</td>\n",
       "      <td>4220.0</td>\n",
       "    </tr>\n",
       "    <tr>\n",
       "      <th>13</th>\n",
       "      <td>Afghanistan</td>\n",
       "      <td>2007</td>\n",
       "      <td>1.823</td>\n",
       "      <td>4723.0</td>\n",
       "      <td>NaN</td>\n",
       "      <td>NaN</td>\n",
       "      <td>4723.0</td>\n",
       "    </tr>\n",
       "    <tr>\n",
       "      <th>12</th>\n",
       "      <td>Afghanistan</td>\n",
       "      <td>2008</td>\n",
       "      <td>1.829</td>\n",
       "      <td>4834.0</td>\n",
       "      <td>NaN</td>\n",
       "      <td>NaN</td>\n",
       "      <td>4834.0</td>\n",
       "    </tr>\n",
       "    <tr>\n",
       "      <th>11</th>\n",
       "      <td>Afghanistan</td>\n",
       "      <td>2009</td>\n",
       "      <td>2.204</td>\n",
       "      <td>6037.0</td>\n",
       "      <td>NaN</td>\n",
       "      <td>NaN</td>\n",
       "      <td>6037.0</td>\n",
       "    </tr>\n",
       "  </tbody>\n",
       "</table>\n",
       "</div>"
      ],
      "text/plain": [
       "   Countries, territories and areas  Year  \\\n",
       "15                      Afghanistan  2001   \n",
       "14                      Afghanistan  2006   \n",
       "13                      Afghanistan  2007   \n",
       "12                      Afghanistan  2008   \n",
       "11                      Afghanistan  2009   \n",
       "\n",
       "    Medical doctors (per 10 000 population)  Medical doctors (number)  \\\n",
       "15                                    2.084                    4104.0   \n",
       "14                                    1.659                    4220.0   \n",
       "13                                    1.823                    4723.0   \n",
       "12                                    1.829                    4834.0   \n",
       "11                                    2.204                    6037.0   \n",
       "\n",
       "    Generalist medical practitioners (number)  \\\n",
       "15                                        NaN   \n",
       "14                                        NaN   \n",
       "13                                        NaN   \n",
       "12                                        NaN   \n",
       "11                                        NaN   \n",
       "\n",
       "    Specialist medical practitioners (number)  \\\n",
       "15                                        NaN   \n",
       "14                                        NaN   \n",
       "13                                        NaN   \n",
       "12                                        NaN   \n",
       "11                                        NaN   \n",
       "\n",
       "    Medical doctors not further defined (number)  \n",
       "15                                        4104.0  \n",
       "14                                        4220.0  \n",
       "13                                        4723.0  \n",
       "12                                        4834.0  \n",
       "11                                        6037.0  "
      ]
     },
     "execution_count": 187,
     "metadata": {},
     "output_type": "execute_result"
    }
   ],
   "source": [
    "df.head()"
   ]
  },
  {
   "cell_type": "code",
   "execution_count": 189,
   "id": "a44cddf7",
   "metadata": {},
   "outputs": [
    {
     "data": {
      "text/html": [
       "<div>\n",
       "<style scoped>\n",
       "    .dataframe tbody tr th:only-of-type {\n",
       "        vertical-align: middle;\n",
       "    }\n",
       "\n",
       "    .dataframe tbody tr th {\n",
       "        vertical-align: top;\n",
       "    }\n",
       "\n",
       "    .dataframe thead th {\n",
       "        text-align: right;\n",
       "    }\n",
       "</style>\n",
       "<table border=\"1\" class=\"dataframe\">\n",
       "  <thead>\n",
       "    <tr style=\"text-align: right;\">\n",
       "      <th></th>\n",
       "      <th>Countries, territories and areas</th>\n",
       "      <th>Year</th>\n",
       "      <th>Medical doctors (per 10 000 population)</th>\n",
       "      <th>Medical doctors (number)</th>\n",
       "      <th>Generalist medical practitioners (number)</th>\n",
       "      <th>Specialist medical practitioners (number)</th>\n",
       "      <th>Medical doctors not further defined (number)</th>\n",
       "    </tr>\n",
       "  </thead>\n",
       "  <tbody>\n",
       "    <tr>\n",
       "      <th>count</th>\n",
       "      <td>3603</td>\n",
       "      <td>3603.000000</td>\n",
       "      <td>2903.000000</td>\n",
       "      <td>3.443000e+03</td>\n",
       "      <td>1333.000000</td>\n",
       "      <td>1.252000e+03</td>\n",
       "      <td>2.781000e+03</td>\n",
       "    </tr>\n",
       "    <tr>\n",
       "      <th>unique</th>\n",
       "      <td>195</td>\n",
       "      <td>NaN</td>\n",
       "      <td>NaN</td>\n",
       "      <td>NaN</td>\n",
       "      <td>NaN</td>\n",
       "      <td>NaN</td>\n",
       "      <td>NaN</td>\n",
       "    </tr>\n",
       "    <tr>\n",
       "      <th>top</th>\n",
       "      <td>Spain</td>\n",
       "      <td>NaN</td>\n",
       "      <td>NaN</td>\n",
       "      <td>NaN</td>\n",
       "      <td>NaN</td>\n",
       "      <td>NaN</td>\n",
       "      <td>NaN</td>\n",
       "    </tr>\n",
       "    <tr>\n",
       "      <th>freq</th>\n",
       "      <td>69</td>\n",
       "      <td>NaN</td>\n",
       "      <td>NaN</td>\n",
       "      <td>NaN</td>\n",
       "      <td>NaN</td>\n",
       "      <td>NaN</td>\n",
       "      <td>NaN</td>\n",
       "    </tr>\n",
       "    <tr>\n",
       "      <th>mean</th>\n",
       "      <td>NaN</td>\n",
       "      <td>2001.320289</td>\n",
       "      <td>21.085519</td>\n",
       "      <td>6.138621e+04</td>\n",
       "      <td>17274.795949</td>\n",
       "      <td>3.487797e+04</td>\n",
       "      <td>5.310102e+04</td>\n",
       "    </tr>\n",
       "    <tr>\n",
       "      <th>std</th>\n",
       "      <td>NaN</td>\n",
       "      <td>14.844936</td>\n",
       "      <td>14.799767</td>\n",
       "      <td>2.046385e+05</td>\n",
       "      <td>25291.511495</td>\n",
       "      <td>6.491819e+04</td>\n",
       "      <td>2.212077e+05</td>\n",
       "    </tr>\n",
       "    <tr>\n",
       "      <th>min</th>\n",
       "      <td>NaN</td>\n",
       "      <td>1952.000000</td>\n",
       "      <td>0.125000</td>\n",
       "      <td>3.000000e+00</td>\n",
       "      <td>11.000000</td>\n",
       "      <td>1.000000e+00</td>\n",
       "      <td>0.000000e+00</td>\n",
       "    </tr>\n",
       "    <tr>\n",
       "      <th>25%</th>\n",
       "      <td>NaN</td>\n",
       "      <td>1993.000000</td>\n",
       "      <td>7.846000</td>\n",
       "      <td>3.348000e+03</td>\n",
       "      <td>1757.000000</td>\n",
       "      <td>3.639750e+03</td>\n",
       "      <td>1.319000e+03</td>\n",
       "    </tr>\n",
       "    <tr>\n",
       "      <th>50%</th>\n",
       "      <td>NaN</td>\n",
       "      <td>2005.000000</td>\n",
       "      <td>21.399000</td>\n",
       "      <td>1.460300e+04</td>\n",
       "      <td>6155.000000</td>\n",
       "      <td>1.230550e+04</td>\n",
       "      <td>8.669000e+03</td>\n",
       "    </tr>\n",
       "    <tr>\n",
       "      <th>75%</th>\n",
       "      <td>NaN</td>\n",
       "      <td>2013.000000</td>\n",
       "      <td>32.202000</td>\n",
       "      <td>4.318900e+04</td>\n",
       "      <td>20184.000000</td>\n",
       "      <td>3.345250e+04</td>\n",
       "      <td>2.718600e+04</td>\n",
       "    </tr>\n",
       "    <tr>\n",
       "      <th>max</th>\n",
       "      <td>NaN</td>\n",
       "      <td>2021.000000</td>\n",
       "      <td>84.273000</td>\n",
       "      <td>3.401672e+06</td>\n",
       "      <td>194265.000000</td>\n",
       "      <td>1.058559e+06</td>\n",
       "      <td>3.401672e+06</td>\n",
       "    </tr>\n",
       "  </tbody>\n",
       "</table>\n",
       "</div>"
      ],
      "text/plain": [
       "       Countries, territories and areas         Year  \\\n",
       "count                              3603  3603.000000   \n",
       "unique                              195          NaN   \n",
       "top                               Spain          NaN   \n",
       "freq                                 69          NaN   \n",
       "mean                                NaN  2001.320289   \n",
       "std                                 NaN    14.844936   \n",
       "min                                 NaN  1952.000000   \n",
       "25%                                 NaN  1993.000000   \n",
       "50%                                 NaN  2005.000000   \n",
       "75%                                 NaN  2013.000000   \n",
       "max                                 NaN  2021.000000   \n",
       "\n",
       "        Medical doctors (per 10 000 population)  Medical doctors (number)  \\\n",
       "count                               2903.000000              3.443000e+03   \n",
       "unique                                      NaN                       NaN   \n",
       "top                                         NaN                       NaN   \n",
       "freq                                        NaN                       NaN   \n",
       "mean                                  21.085519              6.138621e+04   \n",
       "std                                   14.799767              2.046385e+05   \n",
       "min                                    0.125000              3.000000e+00   \n",
       "25%                                    7.846000              3.348000e+03   \n",
       "50%                                   21.399000              1.460300e+04   \n",
       "75%                                   32.202000              4.318900e+04   \n",
       "max                                   84.273000              3.401672e+06   \n",
       "\n",
       "        Generalist medical practitioners (number)  \\\n",
       "count                                 1333.000000   \n",
       "unique                                        NaN   \n",
       "top                                           NaN   \n",
       "freq                                          NaN   \n",
       "mean                                 17274.795949   \n",
       "std                                  25291.511495   \n",
       "min                                     11.000000   \n",
       "25%                                   1757.000000   \n",
       "50%                                   6155.000000   \n",
       "75%                                  20184.000000   \n",
       "max                                 194265.000000   \n",
       "\n",
       "        Specialist medical practitioners (number)  \\\n",
       "count                                1.252000e+03   \n",
       "unique                                        NaN   \n",
       "top                                           NaN   \n",
       "freq                                          NaN   \n",
       "mean                                 3.487797e+04   \n",
       "std                                  6.491819e+04   \n",
       "min                                  1.000000e+00   \n",
       "25%                                  3.639750e+03   \n",
       "50%                                  1.230550e+04   \n",
       "75%                                  3.345250e+04   \n",
       "max                                  1.058559e+06   \n",
       "\n",
       "        Medical doctors not further defined (number)  \n",
       "count                                   2.781000e+03  \n",
       "unique                                           NaN  \n",
       "top                                              NaN  \n",
       "freq                                             NaN  \n",
       "mean                                    5.310102e+04  \n",
       "std                                     2.212077e+05  \n",
       "min                                     0.000000e+00  \n",
       "25%                                     1.319000e+03  \n",
       "50%                                     8.669000e+03  \n",
       "75%                                     2.718600e+04  \n",
       "max                                     3.401672e+06  "
      ]
     },
     "execution_count": 189,
     "metadata": {},
     "output_type": "execute_result"
    }
   ],
   "source": [
    "df.describe(include=\"all\")\n"
   ]
  },
  {
   "cell_type": "code",
   "execution_count": 191,
   "id": "d2d2c344",
   "metadata": {},
   "outputs": [
    {
     "name": "stdout",
     "output_type": "stream",
     "text": [
      "Dataset shape: (3603, 7)\n"
     ]
    }
   ],
   "source": [
    "df_shape = df.shape\n",
    "print(f\"Dataset shape: {df_shape}\")"
   ]
  },
  {
   "cell_type": "code",
   "execution_count": 193,
   "id": "97001427",
   "metadata": {},
   "outputs": [
    {
     "name": "stdout",
     "output_type": "stream",
     "text": [
      "Displaying all sum of null values: \n",
      "Countries, territories and areas                   0\n",
      "Year                                               0\n",
      "Medical doctors (per 10 000 population)          700\n",
      "Medical doctors (number)                         160\n",
      "Generalist medical practitioners (number)       2270\n",
      "Specialist medical practitioners (number)       2351\n",
      "Medical doctors not further defined (number)     822\n",
      "dtype: int64\n"
     ]
    }
   ],
   "source": [
    "df_nulls = df.isnull().sum()\n",
    "print(f\"Displaying all sum of null values: \")\n",
    "print(f\"{df_nulls}\")"
   ]
  },
  {
   "cell_type": "code",
   "execution_count": 195,
   "id": "a92c8cb5",
   "metadata": {},
   "outputs": [
    {
     "name": "stdout",
     "output_type": "stream",
     "text": [
      "Displaying the datatypes of each column: \n",
      "Countries, territories and areas                 object\n",
      "Year                                              int64\n",
      "Medical doctors (per 10 000 population)         float64\n",
      "Medical doctors (number)                        float64\n",
      "Generalist medical practitioners (number)       float64\n",
      "Specialist medical practitioners (number)       float64\n",
      "Medical doctors not further defined (number)    float64\n",
      "dtype: object\n"
     ]
    }
   ],
   "source": [
    "df_dtypes = df.dtypes\n",
    "print(f\"Displaying the datatypes of each column: \")\n",
    "print(f\"{df_dtypes}\")"
   ]
  },
  {
   "cell_type": "code",
   "execution_count": 197,
   "id": "82262bdd",
   "metadata": {},
   "outputs": [
    {
     "name": "stdout",
     "output_type": "stream",
     "text": [
      "Displaying unique values of the datasets : \n",
      "Countries, territories and areas                 195\n",
      "Year                                              70\n",
      "Medical doctors (per 10 000 population)         2791\n",
      "Medical doctors (number)                        3201\n",
      "Generalist medical practitioners (number)       1269\n",
      "Specialist medical practitioners (number)       1212\n",
      "Medical doctors not further defined (number)    2514\n",
      "dtype: int64\n"
     ]
    }
   ],
   "source": [
    "\n",
    "print(f\"Displaying unique values of the datasets : \")\n",
    "print(f\"{df.nunique()}\")\n",
    "\n",
    "# df_info, df_shape, df_nulls, df_dtypes, df.nunique()"
   ]
  },
  {
   "cell_type": "code",
   "execution_count": 199,
   "id": "bd06d9cd",
   "metadata": {},
   "outputs": [
    {
     "name": "stdout",
     "output_type": "stream",
     "text": [
      "\n",
      "Records where 'Medical doctors not further defined (number)' is NaN:\n",
      "                       Countries, territories and areas  Year  \\\n",
      "149                                           Australia  1961   \n",
      "148                                           Australia  1964   \n",
      "147                                           Australia  1965   \n",
      "146                                           Australia  1966   \n",
      "145                                           Australia  1967   \n",
      "...                                                 ...   ...   \n",
      "3501  United Kingdom of Great Britain and Northern I...  1965   \n",
      "3500  United Kingdom of Great Britain and Northern I...  1966   \n",
      "3499  United Kingdom of Great Britain and Northern I...  1967   \n",
      "3498  United Kingdom of Great Britain and Northern I...  1968   \n",
      "3497  United Kingdom of Great Britain and Northern I...  1969   \n",
      "\n",
      "      Medical doctors (per 10 000 population)  Medical doctors (number)  \\\n",
      "149                                       NaN                       NaN   \n",
      "148                                       NaN                       NaN   \n",
      "147                                       NaN                       NaN   \n",
      "146                                       NaN                       NaN   \n",
      "145                                       NaN                       NaN   \n",
      "...                                       ...                       ...   \n",
      "3501                                      NaN                       NaN   \n",
      "3500                                      NaN                       NaN   \n",
      "3499                                      NaN                       NaN   \n",
      "3498                                      NaN                       NaN   \n",
      "3497                                      NaN                       NaN   \n",
      "\n",
      "      Generalist medical practitioners (number)  \\\n",
      "149                                         NaN   \n",
      "148                                         NaN   \n",
      "147                                         NaN   \n",
      "146                                         NaN   \n",
      "145                                         NaN   \n",
      "...                                         ...   \n",
      "3501                                        NaN   \n",
      "3500                                        NaN   \n",
      "3499                                        NaN   \n",
      "3498                                        NaN   \n",
      "3497                                        NaN   \n",
      "\n",
      "      Specialist medical practitioners (number)  \\\n",
      "149                                         NaN   \n",
      "148                                         NaN   \n",
      "147                                         NaN   \n",
      "146                                         NaN   \n",
      "145                                         NaN   \n",
      "...                                         ...   \n",
      "3501                                        NaN   \n",
      "3500                                        NaN   \n",
      "3499                                        NaN   \n",
      "3498                                        NaN   \n",
      "3497                                        NaN   \n",
      "\n",
      "      Medical doctors not further defined (number)  \n",
      "149                                        11904.0  \n",
      "148                                        13629.0  \n",
      "147                                        13854.0  \n",
      "146                                        14268.0  \n",
      "145                                        14856.0  \n",
      "...                                            ...  \n",
      "3501                                       47505.0  \n",
      "3500                                       48014.0  \n",
      "3499                                       49084.0  \n",
      "3498                                       50306.0  \n",
      "3497                                       51318.0  \n",
      "\n",
      "[160 rows x 7 columns]\n"
     ]
    }
   ],
   "source": [
    "# Understanding the relationship between the Medical doctors(number), Generalist medical practitioners (number),\n",
    "# Specialist medical practitioners (number), and Medical doctors not further defined (number)  \n",
    "\n",
    "nan_records = df[df[\"Medical doctors (number)\"].isna()]\n",
    "\n",
    "# Show the result\n",
    "print(\"\\nRecords where 'Medical doctors not further defined (number)' is NaN:\")\n",
    "print(nan_records)"
   ]
  },
  {
   "cell_type": "code",
   "execution_count": null,
   "id": "942519a9",
   "metadata": {},
   "outputs": [],
   "source": []
  },
  {
   "cell_type": "code",
   "execution_count": 202,
   "id": "a0186486-d144-4a4a-ab6e-e9db38924402",
   "metadata": {},
   "outputs": [],
   "source": [
    "# Replacing Missing values\n",
    "\n",
    "df[\"Medical doctors (number)\"] = df[\"Medical doctors (number)\"].fillna(\n",
    "    df[\"Generalist medical practitioners (number)\"].fillna(0) +\n",
    "    df[\"Specialist medical practitioners (number)\"].fillna(0) +\n",
    "    df[\"Medical doctors not further defined (number)\"].fillna(0))\n",
    "\n",
    "df[\"Generalist medical practitioners (number)\"] = df[\"Generalist medical practitioners (number)\"].fillna(\n",
    "    df[\"Medical doctors (number)\"] -\n",
    "    df[\"Specialist medical practitioners (number)\"].fillna(0) -\n",
    "    df[\"Medical doctors not further defined (number)\"].fillna(0))\n",
    "\n",
    "df[\"Specialist medical practitioners (number)\"] = df[\"Specialist medical practitioners (number)\"].fillna(\n",
    "    df[\"Medical doctors (number)\"] -\n",
    "    df[\"Generalist medical practitioners (number)\"].fillna(0) -\n",
    "    df[\"Medical doctors not further defined (number)\"].fillna(0))\n",
    "\n",
    "df[\"Medical doctors not further defined (number)\"] = df[\"Medical doctors not further defined (number)\"].fillna(\n",
    "    df[\"Medical doctors (number)\"] -\n",
    "    df[\"Generalist medical practitioners (number)\"].fillna(0) -\n",
    "    df[\"Specialist medical practitioners (number)\"].fillna(0))"
   ]
  },
  {
   "cell_type": "code",
   "execution_count": 204,
   "id": "2097ff24-0c6f-485f-81e5-b7feadb6d951",
   "metadata": {},
   "outputs": [
    {
     "name": "stdout",
     "output_type": "stream",
     "text": [
      "Displaying all sum of null values: \n",
      "Countries, territories and areas                  0\n",
      "Year                                              0\n",
      "Medical doctors (per 10 000 population)         700\n",
      "Medical doctors (number)                          0\n",
      "Generalist medical practitioners (number)         0\n",
      "Specialist medical practitioners (number)         0\n",
      "Medical doctors not further defined (number)      0\n",
      "dtype: int64\n"
     ]
    }
   ],
   "source": [
    "# Checking further missing values\n",
    "\n",
    "df_nulls = df.isnull().sum()\n",
    "print(f\"Displaying all sum of null values: \")\n",
    "print(f\"{df_nulls}\")"
   ]
  },
  {
   "cell_type": "code",
   "execution_count": 206,
   "id": "b7a4886d-1ecc-413b-b5bc-0509ee8cee6e",
   "metadata": {},
   "outputs": [
    {
     "name": "stdout",
     "output_type": "stream",
     "text": [
      "All the countries included in the dataset:  195\n",
      "['Afghanistan', 'Albania', 'Algeria', 'Andorra', 'Angola', 'Antigua and Barbuda', 'Argentina', 'Armenia', 'Australia', 'Austria', 'Azerbaijan', 'Bahamas', 'Bahrain', 'Bangladesh', 'Barbados', 'Belarus', 'Belgium', 'Belize', 'Benin', 'Bhutan', 'Bolivia (Plurinational State of)', 'Bosnia and Herzegovina', 'Botswana', 'Brazil', 'Brunei Darussalam', 'Bulgaria', 'Burkina Faso', 'Burundi', 'Cabo Verde', 'Cambodia', 'Cameroon', 'Canada', 'Central African Republic', 'Chad', 'Chile', 'China', 'Colombia', 'Comoros', 'Congo', 'Cook Islands', 'Costa Rica', \"Cote d'Ivoire\", 'Croatia', 'Cuba', 'Cyprus', 'Czechia', \"Democratic People's Republic of Korea\", 'Democratic Republic of the Congo', 'Denmark', 'Djibouti', 'Dominica', 'Dominican Republic', 'Ecuador', 'Egypt', 'El Salvador', 'Equatorial Guinea', 'Eritrea', 'Estonia', 'Eswatini', 'Ethiopia', 'Fiji', 'Finland', 'France', 'Gabon', 'Gambia', 'Georgia', 'Germany', 'Ghana', 'Greece', 'Grenada', 'Guatemala', 'Guinea', 'Guinea-Bissau', 'Guyana', 'Haiti', 'Honduras', 'Hungary', 'Iceland', 'India', 'Indonesia', 'Iran (Islamic Republic of)', 'Iraq', 'Ireland', 'Israel', 'Italy', 'Jamaica', 'Japan', 'Jordan', 'Kazakhstan', 'Kenya', 'Kiribati', 'Kuwait', 'Kyrgyzstan', \"Lao People's Democratic Republic\", 'Latvia', 'Lebanon', 'Lesotho', 'Liberia', 'Libya', 'Lithuania', 'Luxembourg', 'Madagascar', 'Malawi', 'Malaysia', 'Maldives', 'Mali', 'Malta', 'Marshall Islands', 'Mauritania', 'Mauritius', 'Mexico', 'Micronesia (Federated States of)', 'Monaco', 'Mongolia', 'Montenegro', 'Morocco', 'Mozambique', 'Myanmar', 'Namibia', 'Nauru', 'Nepal', 'Netherlands (Kingdom of the)', 'New Zealand', 'Nicaragua', 'Niger', 'Nigeria', 'Niue', 'North Macedonia', 'Norway', 'Oman', 'Pakistan', 'Palau', 'Panama', 'Papua New Guinea', 'Paraguay', 'Peru', 'Philippines', 'Poland', 'Portugal', 'Qatar', 'Republic of Korea', 'Republic of Moldova', 'Romania', 'Russian Federation', 'Rwanda', 'Saint Kitts and Nevis', 'Saint Lucia', 'Saint Vincent and the Grenadines', 'Samoa', 'San Marino', 'Sao Tome and Principe', 'Saudi Arabia', 'Senegal', 'Serbia', 'Seychelles', 'Sierra Leone', 'Singapore', 'Slovakia', 'Slovenia', 'Solomon Islands', 'Somalia', 'South Africa', 'South Sudan', 'Spain', 'Sri Lanka', 'Sudan', 'Suriname', 'Sweden', 'Switzerland', 'Syrian Arab Republic', 'Tajikistan', 'Thailand', 'Timor-Leste', 'Togo', 'Tonga', 'Trinidad and Tobago', 'Tunisia', 'Turkiye', 'Turkmenistan', 'Tuvalu', 'Uganda', 'Ukraine', 'United Arab Emirates', 'United Kingdom of Great Britain and Northern Ireland', 'United Republic of Tanzania', 'United States of America', 'Uruguay', 'Uzbekistan', 'Vanuatu', 'Venezuela (Bolivarian Republic of)', 'Viet Nam', 'Yemen', 'Zambia', 'Zimbabwe', 'occupied Palestinian territory, including east Jerusalem']\n"
     ]
    }
   ],
   "source": [
    "# finding all the unique countries and unique year\n",
    "\n",
    "all_countries = df['Countries, territories and areas'].unique().tolist()\n",
    "print(f\"All the countries included in the dataset: \", df['Countries, territories and areas'].nunique())\n",
    "print(all_countries)"
   ]
  },
  {
   "cell_type": "code",
   "execution_count": 210,
   "id": "a9d67ae9-785a-4236-8f14-4fa989b9506c",
   "metadata": {},
   "outputs": [
    {
     "name": "stdout",
     "output_type": "stream",
     "text": [
      "All the year included in the dataset:  70\n",
      "[1952, 1953, 1954, 1955, 1956, 1957, 1958, 1959, 1960, 1961, 1962, 1963, 1964, 1965, 1966, 1967, 1968, 1969, 1970, 1971, 1972, 1973, 1974, 1975, 1976, 1977, 1978, 1979, 1980, 1981, 1982, 1983, 1984, 1985, 1986, 1987, 1988, 1989, 1990, 1991, 1992, 1993, 1994, 1995, 1996, 1997, 1998, 1999, 2000, 2001, 2002, 2003, 2004, 2005, 2006, 2007, 2008, 2009, 2010, 2011, 2012, 2013, 2014, 2015, 2016, 2017, 2018, 2019, 2020, 2021]\n"
     ]
    }
   ],
   "source": [
    "all_year = sorted(df['Year'].unique().tolist())\n",
    "print(f\"All the year included in the dataset: \", df['Year'].nunique())\n",
    "print(all_year)"
   ]
  },
  {
   "cell_type": "code",
   "execution_count": 214,
   "id": "e400e4f2-d087-4c4e-913b-aecd00680bd2",
   "metadata": {},
   "outputs": [
    {
     "name": "stdout",
     "output_type": "stream",
     "text": [
      "                       Countries, territories and areas  Year  \\\n",
      "3036                                              Spain  1952   \n",
      "3035                                              Spain  1953   \n",
      "3034                                              Spain  1954   \n",
      "3033                                              Spain  1955   \n",
      "3032                                              Spain  1956   \n",
      "...                                                 ...   ...   \n",
      "3281                                         Tajikistan  1989   \n",
      "3303                                           Thailand  1989   \n",
      "3226                                            Turkiye  1989   \n",
      "3477  United Kingdom of Great Britain and Northern I...  1989   \n",
      "3547                                         Uzbekistan  1989   \n",
      "\n",
      "      Medical doctors (per 10 000 population)  Medical doctors (number)  \\\n",
      "3036                                      NaN                   28931.0   \n",
      "3035                                      NaN                   29138.0   \n",
      "3034                                      NaN                   31618.0   \n",
      "3033                                      NaN                   32018.0   \n",
      "3032                                      NaN                   32477.0   \n",
      "...                                       ...                       ...   \n",
      "3281                                      NaN                   13843.0   \n",
      "3303                                      NaN                   12713.0   \n",
      "3226                                      NaN                   46708.0   \n",
      "3477                                      NaN                   88607.0   \n",
      "3547                                      NaN                   67734.0   \n",
      "\n",
      "      Generalist medical practitioners (number)  \\\n",
      "3036                                        0.0   \n",
      "3035                                        0.0   \n",
      "3034                                        0.0   \n",
      "3033                                        0.0   \n",
      "3032                                        0.0   \n",
      "...                                         ...   \n",
      "3281                                        0.0   \n",
      "3303                                        0.0   \n",
      "3226                                    22958.0   \n",
      "3477                                    33308.0   \n",
      "3547                                        0.0   \n",
      "\n",
      "      Specialist medical practitioners (number)  \\\n",
      "3036                                        0.0   \n",
      "3035                                        0.0   \n",
      "3034                                        0.0   \n",
      "3033                                        0.0   \n",
      "3032                                        0.0   \n",
      "...                                         ...   \n",
      "3281                                        0.0   \n",
      "3303                                        0.0   \n",
      "3226                                    23750.0   \n",
      "3477                                        0.0   \n",
      "3547                                        0.0   \n",
      "\n",
      "      Medical doctors not further defined (number)  \n",
      "3036                                       28931.0  \n",
      "3035                                       29138.0  \n",
      "3034                                       31618.0  \n",
      "3033                                       32018.0  \n",
      "3032                                       32477.0  \n",
      "...                                            ...  \n",
      "3281                                       13843.0  \n",
      "3303                                       12713.0  \n",
      "3226                                           0.0  \n",
      "3477                                       55299.0  \n",
      "3547                                       67734.0  \n",
      "\n",
      "[700 rows x 7 columns]\n"
     ]
    }
   ],
   "source": [
    "# Sort the DataFrame by 'Year' and 'Countries, territories and areas'\n",
    "missing_doctors = df[df['Medical doctors (per 10 000 population)'].isna()]\n",
    "\n",
    "missing_doctors_sorted = missing_doctors.sort_values(by=['Year', 'Countries, territories and areas'])\n",
    "\n",
    "# Print the sorted DataFrame\n",
    "print(missing_doctors_sorted)"
   ]
  },
  {
   "cell_type": "code",
   "execution_count": 216,
   "id": "97e1afc9-7df2-44f4-84a9-26ab437b9d3d",
   "metadata": {},
   "outputs": [],
   "source": [
    "df_cleaned = df.dropna(subset=['Medical doctors (per 10 000 population)'])\n"
   ]
  },
  {
   "cell_type": "code",
   "execution_count": 220,
   "id": "3319d8d2-3217-4397-b054-e0356b2b4c2e",
   "metadata": {},
   "outputs": [
    {
     "data": {
      "text/plain": [
       "Countries, territories and areas                0\n",
       "Year                                            0\n",
       "Medical doctors (per 10 000 population)         0\n",
       "Medical doctors (number)                        0\n",
       "Generalist medical practitioners (number)       0\n",
       "Specialist medical practitioners (number)       0\n",
       "Medical doctors not further defined (number)    0\n",
       "dtype: int64"
      ]
     },
     "execution_count": 220,
     "metadata": {},
     "output_type": "execute_result"
    }
   ],
   "source": [
    "df_cleaned.isna().sum()"
   ]
  },
  {
   "cell_type": "code",
   "execution_count": null,
   "id": "b3587f6d-7a66-4f89-b00e-1d931bab904d",
   "metadata": {},
   "outputs": [],
   "source": []
  }
 ],
 "metadata": {
  "kernelspec": {
   "display_name": "Python [conda env:base] *",
   "language": "python",
   "name": "conda-base-py"
  },
  "language_info": {
   "codemirror_mode": {
    "name": "ipython",
    "version": 3
   },
   "file_extension": ".py",
   "mimetype": "text/x-python",
   "name": "python",
   "nbconvert_exporter": "python",
   "pygments_lexer": "ipython3",
   "version": "3.12.7"
  }
 },
 "nbformat": 4,
 "nbformat_minor": 5
}
